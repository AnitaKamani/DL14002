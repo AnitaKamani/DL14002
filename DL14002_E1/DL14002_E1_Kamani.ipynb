{
  "nbformat": 4,
  "nbformat_minor": 0,
  "metadata": {
    "colab": {
      "name": "DL14002_E1_Kamani",
      "provenance": [],
      "collapsed_sections": []
    },
    "kernelspec": {
      "name": "python3",
      "display_name": "Python 3"
    },
    "language_info": {
      "name": "python"
    }
  },
  "cells": [
    {
      "cell_type": "markdown",
      "source": [
        "# ***Libraries & Constants***"
      ],
      "metadata": {
        "id": "TopdEIaCyasv"
      }
    },
    {
      "cell_type": "code",
      "execution_count": null,
      "metadata": {
        "id": "8wXLgz_EYiFr"
      },
      "outputs": [],
      "source": [
        "import os\n",
        "import pandas as pd\n",
        "import matplotlib.pyplot as plt\n",
        "import seaborn as sns\n",
        "import numpy as np\n",
        "from tabulate import tabulate\n",
        "from tqdm import tqdm\n",
        "from sklearn.preprocessing import LabelEncoder\n",
        "from sklearn.model_selection import train_test_split"
      ]
    },
    {
      "cell_type": "markdown",
      "source": [
        "### setting random seed"
      ],
      "metadata": {
        "id": "AiCGS1T3ynOr"
      }
    },
    {
      "cell_type": "code",
      "source": [
        "seed=1379\n",
        "np.random.seed(seed)"
      ],
      "metadata": {
        "id": "84xAKzfSym97"
      },
      "execution_count": null,
      "outputs": []
    },
    {
      "cell_type": "code",
      "source": [
        "!gdown --id 1-Zyp-JP3f9QhPKaErBkPPFNKaPS1v74u"
      ],
      "metadata": {
        "colab": {
          "base_uri": "https://localhost:8080/"
        },
        "id": "lirSlJSTYqd6",
        "outputId": "a0a94051-c864-4caf-dd75-eb3e32f2c070"
      },
      "execution_count": null,
      "outputs": [
        {
          "output_type": "stream",
          "name": "stdout",
          "text": [
            "/usr/local/lib/python3.7/dist-packages/gdown/cli.py:131: FutureWarning: Option `--id` was deprecated in version 4.3.1 and will be removed in 5.0. You don't need to pass it anymore to use a file ID.\n",
            "  category=FutureWarning,\n",
            "Downloading...\n",
            "From: https://drive.google.com/uc?id=1-Zyp-JP3f9QhPKaErBkPPFNKaPS1v74u\n",
            "To: /content/Dataset.csv\n",
            "100% 38.0k/38.0k [00:00<00:00, 53.8MB/s]\n"
          ]
        }
      ]
    },
    {
      "cell_type": "code",
      "source": [
        "categorical_attr = ['gender', 'NationalITy', 'PlaceofBirth', 'StageID', 'GradeID', 'SectionID', 'Topic', 'Semester', 'Relation', 'ParentAnsweringSurvey', 'ParentschoolSatisfaction', 'StudentAbsenceDays', 'Class']"
      ],
      "metadata": {
        "id": "WrvvhoNxYtkt"
      },
      "execution_count": null,
      "outputs": []
    },
    {
      "cell_type": "markdown",
      "source": [
        "# ***Preprocessing***\n",
        "\n",
        "Reading & displaying data:"
      ],
      "metadata": {
        "id": "iZ0yQWRPY2vx"
      }
    },
    {
      "cell_type": "code",
      "source": [
        "df = pd.read_csv('/content/Dataset.csv')\n",
        "df.head()"
      ],
      "metadata": {
        "colab": {
          "base_uri": "https://localhost:8080/",
          "height": 250
        },
        "id": "BVPm_CFfYxjw",
        "outputId": "11211612-b667-4d7d-dd78-9c983389c2d8"
      },
      "execution_count": null,
      "outputs": [
        {
          "output_type": "execute_result",
          "data": {
            "text/plain": [
              "  gender NationalITy PlaceofBirth     StageID GradeID SectionID Topic  \\\n",
              "0      M          KW       KuwaIT  lowerlevel    G-04         A    IT   \n",
              "1      M          KW       KuwaIT  lowerlevel    G-04         A    IT   \n",
              "2      M          KW       KuwaIT  lowerlevel    G-04         A    IT   \n",
              "3      M          KW       KuwaIT  lowerlevel    G-04         A    IT   \n",
              "4      M          KW       KuwaIT  lowerlevel    G-04         A    IT   \n",
              "\n",
              "  Semester Relation  raisedhands  VisITedResources  AnnouncementsView  \\\n",
              "0        F   Father           15                16                  2   \n",
              "1        F   Father           20                20                  3   \n",
              "2        F   Father           10                 7                  0   \n",
              "3        F   Father           30                25                  5   \n",
              "4        F   Father           40                50                 12   \n",
              "\n",
              "   Discussion ParentAnsweringSurvey ParentschoolSatisfaction  \\\n",
              "0          20                   Yes                     Good   \n",
              "1          25                   Yes                     Good   \n",
              "2          30                    No                      Bad   \n",
              "3          35                    No                      Bad   \n",
              "4          50                    No                      Bad   \n",
              "\n",
              "  StudentAbsenceDays Class  \n",
              "0            Under-7     M  \n",
              "1            Under-7     M  \n",
              "2            Above-7     L  \n",
              "3            Above-7     L  \n",
              "4            Above-7     M  "
            ],
            "text/html": [
              "\n",
              "  <div id=\"df-b01da3ee-6a33-46cf-bb6b-46f4be76a98a\">\n",
              "    <div class=\"colab-df-container\">\n",
              "      <div>\n",
              "<style scoped>\n",
              "    .dataframe tbody tr th:only-of-type {\n",
              "        vertical-align: middle;\n",
              "    }\n",
              "\n",
              "    .dataframe tbody tr th {\n",
              "        vertical-align: top;\n",
              "    }\n",
              "\n",
              "    .dataframe thead th {\n",
              "        text-align: right;\n",
              "    }\n",
              "</style>\n",
              "<table border=\"1\" class=\"dataframe\">\n",
              "  <thead>\n",
              "    <tr style=\"text-align: right;\">\n",
              "      <th></th>\n",
              "      <th>gender</th>\n",
              "      <th>NationalITy</th>\n",
              "      <th>PlaceofBirth</th>\n",
              "      <th>StageID</th>\n",
              "      <th>GradeID</th>\n",
              "      <th>SectionID</th>\n",
              "      <th>Topic</th>\n",
              "      <th>Semester</th>\n",
              "      <th>Relation</th>\n",
              "      <th>raisedhands</th>\n",
              "      <th>VisITedResources</th>\n",
              "      <th>AnnouncementsView</th>\n",
              "      <th>Discussion</th>\n",
              "      <th>ParentAnsweringSurvey</th>\n",
              "      <th>ParentschoolSatisfaction</th>\n",
              "      <th>StudentAbsenceDays</th>\n",
              "      <th>Class</th>\n",
              "    </tr>\n",
              "  </thead>\n",
              "  <tbody>\n",
              "    <tr>\n",
              "      <th>0</th>\n",
              "      <td>M</td>\n",
              "      <td>KW</td>\n",
              "      <td>KuwaIT</td>\n",
              "      <td>lowerlevel</td>\n",
              "      <td>G-04</td>\n",
              "      <td>A</td>\n",
              "      <td>IT</td>\n",
              "      <td>F</td>\n",
              "      <td>Father</td>\n",
              "      <td>15</td>\n",
              "      <td>16</td>\n",
              "      <td>2</td>\n",
              "      <td>20</td>\n",
              "      <td>Yes</td>\n",
              "      <td>Good</td>\n",
              "      <td>Under-7</td>\n",
              "      <td>M</td>\n",
              "    </tr>\n",
              "    <tr>\n",
              "      <th>1</th>\n",
              "      <td>M</td>\n",
              "      <td>KW</td>\n",
              "      <td>KuwaIT</td>\n",
              "      <td>lowerlevel</td>\n",
              "      <td>G-04</td>\n",
              "      <td>A</td>\n",
              "      <td>IT</td>\n",
              "      <td>F</td>\n",
              "      <td>Father</td>\n",
              "      <td>20</td>\n",
              "      <td>20</td>\n",
              "      <td>3</td>\n",
              "      <td>25</td>\n",
              "      <td>Yes</td>\n",
              "      <td>Good</td>\n",
              "      <td>Under-7</td>\n",
              "      <td>M</td>\n",
              "    </tr>\n",
              "    <tr>\n",
              "      <th>2</th>\n",
              "      <td>M</td>\n",
              "      <td>KW</td>\n",
              "      <td>KuwaIT</td>\n",
              "      <td>lowerlevel</td>\n",
              "      <td>G-04</td>\n",
              "      <td>A</td>\n",
              "      <td>IT</td>\n",
              "      <td>F</td>\n",
              "      <td>Father</td>\n",
              "      <td>10</td>\n",
              "      <td>7</td>\n",
              "      <td>0</td>\n",
              "      <td>30</td>\n",
              "      <td>No</td>\n",
              "      <td>Bad</td>\n",
              "      <td>Above-7</td>\n",
              "      <td>L</td>\n",
              "    </tr>\n",
              "    <tr>\n",
              "      <th>3</th>\n",
              "      <td>M</td>\n",
              "      <td>KW</td>\n",
              "      <td>KuwaIT</td>\n",
              "      <td>lowerlevel</td>\n",
              "      <td>G-04</td>\n",
              "      <td>A</td>\n",
              "      <td>IT</td>\n",
              "      <td>F</td>\n",
              "      <td>Father</td>\n",
              "      <td>30</td>\n",
              "      <td>25</td>\n",
              "      <td>5</td>\n",
              "      <td>35</td>\n",
              "      <td>No</td>\n",
              "      <td>Bad</td>\n",
              "      <td>Above-7</td>\n",
              "      <td>L</td>\n",
              "    </tr>\n",
              "    <tr>\n",
              "      <th>4</th>\n",
              "      <td>M</td>\n",
              "      <td>KW</td>\n",
              "      <td>KuwaIT</td>\n",
              "      <td>lowerlevel</td>\n",
              "      <td>G-04</td>\n",
              "      <td>A</td>\n",
              "      <td>IT</td>\n",
              "      <td>F</td>\n",
              "      <td>Father</td>\n",
              "      <td>40</td>\n",
              "      <td>50</td>\n",
              "      <td>12</td>\n",
              "      <td>50</td>\n",
              "      <td>No</td>\n",
              "      <td>Bad</td>\n",
              "      <td>Above-7</td>\n",
              "      <td>M</td>\n",
              "    </tr>\n",
              "  </tbody>\n",
              "</table>\n",
              "</div>\n",
              "      <button class=\"colab-df-convert\" onclick=\"convertToInteractive('df-b01da3ee-6a33-46cf-bb6b-46f4be76a98a')\"\n",
              "              title=\"Convert this dataframe to an interactive table.\"\n",
              "              style=\"display:none;\">\n",
              "        \n",
              "  <svg xmlns=\"http://www.w3.org/2000/svg\" height=\"24px\"viewBox=\"0 0 24 24\"\n",
              "       width=\"24px\">\n",
              "    <path d=\"M0 0h24v24H0V0z\" fill=\"none\"/>\n",
              "    <path d=\"M18.56 5.44l.94 2.06.94-2.06 2.06-.94-2.06-.94-.94-2.06-.94 2.06-2.06.94zm-11 1L8.5 8.5l.94-2.06 2.06-.94-2.06-.94L8.5 2.5l-.94 2.06-2.06.94zm10 10l.94 2.06.94-2.06 2.06-.94-2.06-.94-.94-2.06-.94 2.06-2.06.94z\"/><path d=\"M17.41 7.96l-1.37-1.37c-.4-.4-.92-.59-1.43-.59-.52 0-1.04.2-1.43.59L10.3 9.45l-7.72 7.72c-.78.78-.78 2.05 0 2.83L4 21.41c.39.39.9.59 1.41.59.51 0 1.02-.2 1.41-.59l7.78-7.78 2.81-2.81c.8-.78.8-2.07 0-2.86zM5.41 20L4 18.59l7.72-7.72 1.47 1.35L5.41 20z\"/>\n",
              "  </svg>\n",
              "      </button>\n",
              "      \n",
              "  <style>\n",
              "    .colab-df-container {\n",
              "      display:flex;\n",
              "      flex-wrap:wrap;\n",
              "      gap: 12px;\n",
              "    }\n",
              "\n",
              "    .colab-df-convert {\n",
              "      background-color: #E8F0FE;\n",
              "      border: none;\n",
              "      border-radius: 50%;\n",
              "      cursor: pointer;\n",
              "      display: none;\n",
              "      fill: #1967D2;\n",
              "      height: 32px;\n",
              "      padding: 0 0 0 0;\n",
              "      width: 32px;\n",
              "    }\n",
              "\n",
              "    .colab-df-convert:hover {\n",
              "      background-color: #E2EBFA;\n",
              "      box-shadow: 0px 1px 2px rgba(60, 64, 67, 0.3), 0px 1px 3px 1px rgba(60, 64, 67, 0.15);\n",
              "      fill: #174EA6;\n",
              "    }\n",
              "\n",
              "    [theme=dark] .colab-df-convert {\n",
              "      background-color: #3B4455;\n",
              "      fill: #D2E3FC;\n",
              "    }\n",
              "\n",
              "    [theme=dark] .colab-df-convert:hover {\n",
              "      background-color: #434B5C;\n",
              "      box-shadow: 0px 1px 3px 1px rgba(0, 0, 0, 0.15);\n",
              "      filter: drop-shadow(0px 1px 2px rgba(0, 0, 0, 0.3));\n",
              "      fill: #FFFFFF;\n",
              "    }\n",
              "  </style>\n",
              "\n",
              "      <script>\n",
              "        const buttonEl =\n",
              "          document.querySelector('#df-b01da3ee-6a33-46cf-bb6b-46f4be76a98a button.colab-df-convert');\n",
              "        buttonEl.style.display =\n",
              "          google.colab.kernel.accessAllowed ? 'block' : 'none';\n",
              "\n",
              "        async function convertToInteractive(key) {\n",
              "          const element = document.querySelector('#df-b01da3ee-6a33-46cf-bb6b-46f4be76a98a');\n",
              "          const dataTable =\n",
              "            await google.colab.kernel.invokeFunction('convertToInteractive',\n",
              "                                                     [key], {});\n",
              "          if (!dataTable) return;\n",
              "\n",
              "          const docLinkHtml = 'Like what you see? Visit the ' +\n",
              "            '<a target=\"_blank\" href=https://colab.research.google.com/notebooks/data_table.ipynb>data table notebook</a>'\n",
              "            + ' to learn more about interactive tables.';\n",
              "          element.innerHTML = '';\n",
              "          dataTable['output_type'] = 'display_data';\n",
              "          await google.colab.output.renderOutput(dataTable, element);\n",
              "          const docLink = document.createElement('div');\n",
              "          docLink.innerHTML = docLinkHtml;\n",
              "          element.appendChild(docLink);\n",
              "        }\n",
              "      </script>\n",
              "    </div>\n",
              "  </div>\n",
              "  "
            ]
          },
          "metadata": {},
          "execution_count": 41
        }
      ]
    },
    {
      "cell_type": "code",
      "source": [
        "print(df.shape)"
      ],
      "metadata": {
        "colab": {
          "base_uri": "https://localhost:8080/"
        },
        "id": "oDkmtX73p6S1",
        "outputId": "40af6c25-ed25-432c-b116-027c8ba5316d"
      },
      "execution_count": null,
      "outputs": [
        {
          "output_type": "stream",
          "name": "stdout",
          "text": [
            "(480, 17)\n"
          ]
        }
      ]
    },
    {
      "cell_type": "code",
      "source": [
        "# Converting Categorical values to scaler values\n",
        "le = LabelEncoder()\n",
        "df[categorical_attr] = df[categorical_attr].apply(le.fit_transform, axis=0)"
      ],
      "metadata": {
        "id": "8o2lOEhwZEx_"
      },
      "execution_count": null,
      "outputs": []
    },
    {
      "cell_type": "code",
      "source": [
        "df.head()"
      ],
      "metadata": {
        "colab": {
          "base_uri": "https://localhost:8080/",
          "height": 250
        },
        "id": "gKyEl77qy56y",
        "outputId": "149c1eb9-e318-4b27-db9b-59ddcfc81c24"
      },
      "execution_count": null,
      "outputs": [
        {
          "output_type": "execute_result",
          "data": {
            "text/plain": [
              "   gender  NationalITy  PlaceofBirth  StageID  GradeID  SectionID  Topic  \\\n",
              "0       1            4             4        2        1          0      7   \n",
              "1       1            4             4        2        1          0      7   \n",
              "2       1            4             4        2        1          0      7   \n",
              "3       1            4             4        2        1          0      7   \n",
              "4       1            4             4        2        1          0      7   \n",
              "\n",
              "   Semester  Relation  raisedhands  VisITedResources  AnnouncementsView  \\\n",
              "0         0         0           15                16                  2   \n",
              "1         0         0           20                20                  3   \n",
              "2         0         0           10                 7                  0   \n",
              "3         0         0           30                25                  5   \n",
              "4         0         0           40                50                 12   \n",
              "\n",
              "   Discussion  ParentAnsweringSurvey  ParentschoolSatisfaction  \\\n",
              "0          20                      1                         1   \n",
              "1          25                      1                         1   \n",
              "2          30                      0                         0   \n",
              "3          35                      0                         0   \n",
              "4          50                      0                         0   \n",
              "\n",
              "   StudentAbsenceDays  Class  \n",
              "0                   1      2  \n",
              "1                   1      2  \n",
              "2                   0      1  \n",
              "3                   0      1  \n",
              "4                   0      2  "
            ],
            "text/html": [
              "\n",
              "  <div id=\"df-f39e9827-2318-4b86-862e-c11dca4e6aa6\">\n",
              "    <div class=\"colab-df-container\">\n",
              "      <div>\n",
              "<style scoped>\n",
              "    .dataframe tbody tr th:only-of-type {\n",
              "        vertical-align: middle;\n",
              "    }\n",
              "\n",
              "    .dataframe tbody tr th {\n",
              "        vertical-align: top;\n",
              "    }\n",
              "\n",
              "    .dataframe thead th {\n",
              "        text-align: right;\n",
              "    }\n",
              "</style>\n",
              "<table border=\"1\" class=\"dataframe\">\n",
              "  <thead>\n",
              "    <tr style=\"text-align: right;\">\n",
              "      <th></th>\n",
              "      <th>gender</th>\n",
              "      <th>NationalITy</th>\n",
              "      <th>PlaceofBirth</th>\n",
              "      <th>StageID</th>\n",
              "      <th>GradeID</th>\n",
              "      <th>SectionID</th>\n",
              "      <th>Topic</th>\n",
              "      <th>Semester</th>\n",
              "      <th>Relation</th>\n",
              "      <th>raisedhands</th>\n",
              "      <th>VisITedResources</th>\n",
              "      <th>AnnouncementsView</th>\n",
              "      <th>Discussion</th>\n",
              "      <th>ParentAnsweringSurvey</th>\n",
              "      <th>ParentschoolSatisfaction</th>\n",
              "      <th>StudentAbsenceDays</th>\n",
              "      <th>Class</th>\n",
              "    </tr>\n",
              "  </thead>\n",
              "  <tbody>\n",
              "    <tr>\n",
              "      <th>0</th>\n",
              "      <td>1</td>\n",
              "      <td>4</td>\n",
              "      <td>4</td>\n",
              "      <td>2</td>\n",
              "      <td>1</td>\n",
              "      <td>0</td>\n",
              "      <td>7</td>\n",
              "      <td>0</td>\n",
              "      <td>0</td>\n",
              "      <td>15</td>\n",
              "      <td>16</td>\n",
              "      <td>2</td>\n",
              "      <td>20</td>\n",
              "      <td>1</td>\n",
              "      <td>1</td>\n",
              "      <td>1</td>\n",
              "      <td>2</td>\n",
              "    </tr>\n",
              "    <tr>\n",
              "      <th>1</th>\n",
              "      <td>1</td>\n",
              "      <td>4</td>\n",
              "      <td>4</td>\n",
              "      <td>2</td>\n",
              "      <td>1</td>\n",
              "      <td>0</td>\n",
              "      <td>7</td>\n",
              "      <td>0</td>\n",
              "      <td>0</td>\n",
              "      <td>20</td>\n",
              "      <td>20</td>\n",
              "      <td>3</td>\n",
              "      <td>25</td>\n",
              "      <td>1</td>\n",
              "      <td>1</td>\n",
              "      <td>1</td>\n",
              "      <td>2</td>\n",
              "    </tr>\n",
              "    <tr>\n",
              "      <th>2</th>\n",
              "      <td>1</td>\n",
              "      <td>4</td>\n",
              "      <td>4</td>\n",
              "      <td>2</td>\n",
              "      <td>1</td>\n",
              "      <td>0</td>\n",
              "      <td>7</td>\n",
              "      <td>0</td>\n",
              "      <td>0</td>\n",
              "      <td>10</td>\n",
              "      <td>7</td>\n",
              "      <td>0</td>\n",
              "      <td>30</td>\n",
              "      <td>0</td>\n",
              "      <td>0</td>\n",
              "      <td>0</td>\n",
              "      <td>1</td>\n",
              "    </tr>\n",
              "    <tr>\n",
              "      <th>3</th>\n",
              "      <td>1</td>\n",
              "      <td>4</td>\n",
              "      <td>4</td>\n",
              "      <td>2</td>\n",
              "      <td>1</td>\n",
              "      <td>0</td>\n",
              "      <td>7</td>\n",
              "      <td>0</td>\n",
              "      <td>0</td>\n",
              "      <td>30</td>\n",
              "      <td>25</td>\n",
              "      <td>5</td>\n",
              "      <td>35</td>\n",
              "      <td>0</td>\n",
              "      <td>0</td>\n",
              "      <td>0</td>\n",
              "      <td>1</td>\n",
              "    </tr>\n",
              "    <tr>\n",
              "      <th>4</th>\n",
              "      <td>1</td>\n",
              "      <td>4</td>\n",
              "      <td>4</td>\n",
              "      <td>2</td>\n",
              "      <td>1</td>\n",
              "      <td>0</td>\n",
              "      <td>7</td>\n",
              "      <td>0</td>\n",
              "      <td>0</td>\n",
              "      <td>40</td>\n",
              "      <td>50</td>\n",
              "      <td>12</td>\n",
              "      <td>50</td>\n",
              "      <td>0</td>\n",
              "      <td>0</td>\n",
              "      <td>0</td>\n",
              "      <td>2</td>\n",
              "    </tr>\n",
              "  </tbody>\n",
              "</table>\n",
              "</div>\n",
              "      <button class=\"colab-df-convert\" onclick=\"convertToInteractive('df-f39e9827-2318-4b86-862e-c11dca4e6aa6')\"\n",
              "              title=\"Convert this dataframe to an interactive table.\"\n",
              "              style=\"display:none;\">\n",
              "        \n",
              "  <svg xmlns=\"http://www.w3.org/2000/svg\" height=\"24px\"viewBox=\"0 0 24 24\"\n",
              "       width=\"24px\">\n",
              "    <path d=\"M0 0h24v24H0V0z\" fill=\"none\"/>\n",
              "    <path d=\"M18.56 5.44l.94 2.06.94-2.06 2.06-.94-2.06-.94-.94-2.06-.94 2.06-2.06.94zm-11 1L8.5 8.5l.94-2.06 2.06-.94-2.06-.94L8.5 2.5l-.94 2.06-2.06.94zm10 10l.94 2.06.94-2.06 2.06-.94-2.06-.94-.94-2.06-.94 2.06-2.06.94z\"/><path d=\"M17.41 7.96l-1.37-1.37c-.4-.4-.92-.59-1.43-.59-.52 0-1.04.2-1.43.59L10.3 9.45l-7.72 7.72c-.78.78-.78 2.05 0 2.83L4 21.41c.39.39.9.59 1.41.59.51 0 1.02-.2 1.41-.59l7.78-7.78 2.81-2.81c.8-.78.8-2.07 0-2.86zM5.41 20L4 18.59l7.72-7.72 1.47 1.35L5.41 20z\"/>\n",
              "  </svg>\n",
              "      </button>\n",
              "      \n",
              "  <style>\n",
              "    .colab-df-container {\n",
              "      display:flex;\n",
              "      flex-wrap:wrap;\n",
              "      gap: 12px;\n",
              "    }\n",
              "\n",
              "    .colab-df-convert {\n",
              "      background-color: #E8F0FE;\n",
              "      border: none;\n",
              "      border-radius: 50%;\n",
              "      cursor: pointer;\n",
              "      display: none;\n",
              "      fill: #1967D2;\n",
              "      height: 32px;\n",
              "      padding: 0 0 0 0;\n",
              "      width: 32px;\n",
              "    }\n",
              "\n",
              "    .colab-df-convert:hover {\n",
              "      background-color: #E2EBFA;\n",
              "      box-shadow: 0px 1px 2px rgba(60, 64, 67, 0.3), 0px 1px 3px 1px rgba(60, 64, 67, 0.15);\n",
              "      fill: #174EA6;\n",
              "    }\n",
              "\n",
              "    [theme=dark] .colab-df-convert {\n",
              "      background-color: #3B4455;\n",
              "      fill: #D2E3FC;\n",
              "    }\n",
              "\n",
              "    [theme=dark] .colab-df-convert:hover {\n",
              "      background-color: #434B5C;\n",
              "      box-shadow: 0px 1px 3px 1px rgba(0, 0, 0, 0.15);\n",
              "      filter: drop-shadow(0px 1px 2px rgba(0, 0, 0, 0.3));\n",
              "      fill: #FFFFFF;\n",
              "    }\n",
              "  </style>\n",
              "\n",
              "      <script>\n",
              "        const buttonEl =\n",
              "          document.querySelector('#df-f39e9827-2318-4b86-862e-c11dca4e6aa6 button.colab-df-convert');\n",
              "        buttonEl.style.display =\n",
              "          google.colab.kernel.accessAllowed ? 'block' : 'none';\n",
              "\n",
              "        async function convertToInteractive(key) {\n",
              "          const element = document.querySelector('#df-f39e9827-2318-4b86-862e-c11dca4e6aa6');\n",
              "          const dataTable =\n",
              "            await google.colab.kernel.invokeFunction('convertToInteractive',\n",
              "                                                     [key], {});\n",
              "          if (!dataTable) return;\n",
              "\n",
              "          const docLinkHtml = 'Like what you see? Visit the ' +\n",
              "            '<a target=\"_blank\" href=https://colab.research.google.com/notebooks/data_table.ipynb>data table notebook</a>'\n",
              "            + ' to learn more about interactive tables.';\n",
              "          element.innerHTML = '';\n",
              "          dataTable['output_type'] = 'display_data';\n",
              "          await google.colab.output.renderOutput(dataTable, element);\n",
              "          const docLink = document.createElement('div');\n",
              "          docLink.innerHTML = docLinkHtml;\n",
              "          element.appendChild(docLink);\n",
              "        }\n",
              "      </script>\n",
              "    </div>\n",
              "  </div>\n",
              "  "
            ]
          },
          "metadata": {},
          "execution_count": 44
        }
      ]
    },
    {
      "cell_type": "code",
      "source": [
        "# X: Features, y: Classes\n",
        "X_ = np.array(df.iloc[:, :-1])\n",
        "y_ = np.array(df['Class'])"
      ],
      "metadata": {
        "id": "taUy4jmjZJRN"
      },
      "execution_count": null,
      "outputs": []
    },
    {
      "cell_type": "markdown",
      "source": [
        "###Standardizing the dataset\n",
        "#### Column \"Class\" is the out put and we will make students with class 0 fail and above 0 pass\n",
        "\n",
        "\\begin{align}\n",
        "label=\\left\\{\\begin{matrix}0\\;\\;\\;\\;\\;\\;\\;\\;\\;\\;Class=0\n",
        " \\\\1\\;\\;\\;\\;\\;\\;\\;\\;\\;\\;Class\\geq1\n",
        "\\end{matrix}\\right.\n",
        "\\end{align}\n",
        "\n",
        "Also, we will standardize the training values by dividing them to the maximum value of each feature"
      ],
      "metadata": {
        "id": "DFFUWB3waNTC"
      }
    },
    {
      "cell_type": "code",
      "source": [
        "# making the labels 0 and 1\n",
        "y = np.where(y_ > 0, 1, 0)\n",
        "# deviding x feature values to their maximum value\n",
        "print(X_.shape)\n",
        "X = np.divide(X_, np.amax(X_, axis=0))\n",
        "print(X.max())"
      ],
      "metadata": {
        "colab": {
          "base_uri": "https://localhost:8080/"
        },
        "id": "x5SiM-qKfId2",
        "outputId": "7b24796b-9d7f-48ac-f463-5dd3f659794f"
      },
      "execution_count": null,
      "outputs": [
        {
          "output_type": "stream",
          "name": "stdout",
          "text": [
            "(480, 16)\n",
            "1.0\n"
          ]
        }
      ]
    },
    {
      "cell_type": "code",
      "source": [
        "# Deviding Dataset to training and validation set\n",
        "X_train_tmp, X_val_tmp, y_train_tmp, y_val_tmp = train_test_split(X, y, test_size=0.2, random_state=12)"
      ],
      "metadata": {
        "id": "nBMIXI-aZKGw"
      },
      "execution_count": null,
      "outputs": []
    },
    {
      "cell_type": "code",
      "source": [
        "print('Number of dataset: ', len(X))\n",
        "print('Number of train set: ', len(X_train_tmp))\n",
        "print('Number of validation set: ', len(X_val_tmp))"
      ],
      "metadata": {
        "colab": {
          "base_uri": "https://localhost:8080/"
        },
        "id": "jEozQo3ZZe74",
        "outputId": "70327e28-c298-481f-9f60-a9376c5e0ca3"
      },
      "execution_count": null,
      "outputs": [
        {
          "output_type": "stream",
          "name": "stdout",
          "text": [
            "Number of dataset:  480\n",
            "Number of train set:  384\n",
            "Number of validation set:  96\n"
          ]
        }
      ]
    },
    {
      "cell_type": "markdown",
      "source": [
        "###Reshaping the data set"
      ],
      "metadata": {
        "id": "sHoezSuAe5j1"
      }
    },
    {
      "cell_type": "code",
      "source": [
        "X_train = X_train_tmp.T\n",
        "X_val = X_val_tmp.T\n",
        "y_train = y_train_tmp.T.reshape(1, len(y_train_tmp))\n",
        "y_val = y_val_tmp.T.reshape(1, len(y_val_tmp))\n",
        "\n",
        "print(\"X_train shape:\", X_train.shape, \"    y_train shape:\", y_train.shape)\n",
        "print(\"X_val shape:\", X_val.shape, \"       y_val shape:\", y_val.shape)"
      ],
      "metadata": {
        "colab": {
          "base_uri": "https://localhost:8080/"
        },
        "id": "W5yJJyaGe1gA",
        "outputId": "4e5804f4-e697-456e-e3be-225972d88646"
      },
      "execution_count": null,
      "outputs": [
        {
          "output_type": "stream",
          "name": "stdout",
          "text": [
            "X_train shape: (16, 384)     y_train shape: (1, 384)\n",
            "X_val shape: (16, 96)        y_val shape: (1, 96)\n"
          ]
        }
      ]
    },
    {
      "cell_type": "markdown",
      "source": [
        "# ***Implementing Model***"
      ],
      "metadata": {
        "id": "p8uXlAKL0fpU"
      }
    },
    {
      "cell_type": "markdown",
      "source": [
        "## 1. Initializing Model\n",
        "#####Initializing a model with two inputs: *dimensions* and *random* option"
      ],
      "metadata": {
        "id": "q6Kcp7K0R2na"
      }
    },
    {
      "cell_type": "markdown",
      "source": [
        "### Initialize funcion"
      ],
      "metadata": {
        "id": "ICaM1h1qCUCX"
      }
    },
    {
      "cell_type": "code",
      "source": [
        "def initialize_network(dimensions, random=True):\n",
        "    # e.g. dimensions=[16,20,1] input:16, hidden-1:20 output:1\n",
        "    params = {}  # dictionary of params containing Wl, bl\n",
        "    for l in range(len(dimensions) - 1):\n",
        "        if random:\n",
        "            np.random.seed(seed)\n",
        "\n",
        "            params[\"W\" + str(l + 1)] = np.random.randn(dimensions[l + 1], dimensions[l]) * 0.01\n",
        "            params[\"b\" + str(l + 1)] = np.random.randn(dimensions[l + 1], 1) * 0.01\n",
        "        else:\n",
        "            params[\"W\" + str(l + 1)] = np.zeros((dimensions[l + 1], dimensions[l]))\n",
        "            params[\"b\" + str(l + 1)] = np.zeros((dimensions[l + 1], 1))\n",
        "            \n",
        "    return params\n",
        "\n",
        "# e.g.: [16,1]\n",
        "print(initialize_network([16, 1]))"
      ],
      "metadata": {
        "id": "lXi8MsnASe30",
        "colab": {
          "base_uri": "https://localhost:8080/"
        },
        "outputId": "996b2261-838e-4cec-8a58-ec3874105a42"
      },
      "execution_count": null,
      "outputs": [
        {
          "output_type": "stream",
          "name": "stdout",
          "text": [
            "{'W1': array([[ 1.85995819e-02, -5.72040108e-03, -2.92832860e-05,\n",
            "         4.34899698e-03, -1.94688914e-03, -3.33358987e-03,\n",
            "        -1.39013987e-02,  3.32626484e-03, -1.32216604e-03,\n",
            "        -1.58638894e-02,  5.77380182e-03, -2.62317766e-02,\n",
            "        -1.72477966e-03,  1.60807126e-02,  9.65543961e-03,\n",
            "         9.26100345e-03]]), 'b1': array([[-0.00474711]])}\n"
          ]
        }
      ]
    },
    {
      "cell_type": "markdown",
      "source": [
        "## 2. Forward Propagation\n",
        "\n"
      ],
      "metadata": {
        "id": "R19CIiqGST_8"
      }
    },
    {
      "cell_type": "markdown",
      "source": [
        "<div>\n",
        "<img src=\"https://drive.google.com/uc?export=view&id=1BZ3Uag70dZex2wS_pziPz-H1tmw4IgN6\" alt=\"Forward Propagation\" width=\"600\"/>\n",
        "</div>\n"
      ],
      "metadata": {
        "id": "PUH725UXDYIQ"
      }
    },
    {
      "cell_type": "markdown",
      "source": [
        "###2.1 Single Forward Propagation\n",
        "#### a single forward propagation to be used in the next function of L layer network\n",
        "\n",
        "###relu function:\n",
        "\\begin{align}\n",
        "relu(Z)=\\left\\{\\begin{matrix}0\\;\\;\\;\\;\\;\\;\\;\\;\\;\\;Z<0\n",
        " \\\\Z\\;\\;\\;\\;\\;\\;\\;\\;\\;\\;Z\\geq0\n",
        "\\end{matrix}\\right.\n",
        "\\end{align}\n",
        "\n",
        "###sigmoid function:\n",
        "\\begin{align}\n",
        "\\delta(Z)=\\frac{1}{1+{e}^{-Z}}\n",
        "\\end{align}"
      ],
      "metadata": {
        "id": "c8qefmg0V1zq"
      }
    },
    {
      "cell_type": "code",
      "source": [
        "def forward_propagation(A_, W, b, type_of_activation_function):\n",
        "    Z = np.dot(W, A_) + b\n",
        "    A = None\n",
        "     # hidden layers: relu\n",
        "    if type_of_activation_function == 'r':\n",
        "        A = np.where(Z > 0, Z, 0)\n",
        "    # output layer: sigmoid\n",
        "    elif type_of_activation_function == 's':\n",
        "        A = 1 / (1 + np.exp(-Z))\n",
        "    return A, {\"A_\": A_, \"W\": W, \"b\": b, \"Z\": Z}\n",
        "\n",
        "# np.random.seed(seed)\n",
        "forward_propagation(np.random.randn(4, 1), np.random.randn(1, 4), np.random.randn(1, 1), \"s\")"
      ],
      "metadata": {
        "id": "DfxkIrA_0kkn",
        "colab": {
          "base_uri": "https://localhost:8080/"
        },
        "outputId": "8d4bcf19-ea3a-43d4-a0df-86eb09803706"
      },
      "execution_count": null,
      "outputs": [
        {
          "output_type": "execute_result",
          "data": {
            "text/plain": [
              "(array([[0.87817535]]), {'A_': array([[-0.3190641 ],\n",
              "         [ 0.95757684],\n",
              "         [-1.45650052],\n",
              "         [ 1.11307374]]),\n",
              "  'W': array([[-0.19251167,  1.53203836,  1.46933957,  1.1878628 ]]),\n",
              "  'Z': array([[1.97526353]]),\n",
              "  'b': array([[1.26471047]])})"
            ]
          },
          "metadata": {},
          "execution_count": 51
        }
      ]
    },
    {
      "cell_type": "markdown",
      "source": [
        "### 2.2 Forward Propagation for L layers"
      ],
      "metadata": {
        "id": "IQGdD9oUWAlO"
      }
    },
    {
      "cell_type": "code",
      "source": [
        "def Forward_L_layers(X, L, params):\n",
        "    A_ = X\n",
        "    history = []\n",
        "    # if network has hidden layers L-1 world be grater than 0 otherwise there is no relu activation layer and we have a\n",
        "    # 1-layer netwrk with a single sigmoid output activation function\n",
        "\n",
        "    for l in range(L - 1):\n",
        "        A, his = forward_propagation(A_, params[\"W\" + str(l + 1)], params[\"b\" + str(l + 1)], \"r\")\n",
        "        A_ = A\n",
        "        history.append(his)\n",
        "    output, his = forward_propagation(A_, params[\"W\" + str(L)], params[\"b\" + str(L)], \"s\")\n",
        "    history.append(his)\n",
        "    return output, history\n",
        "\n",
        "# np.random.seed(seed)\n",
        "X = np.random.randn(4, 1)\n",
        "Forward_L_layers(X, 1, initialize_network([4, 1],))[0].squeeze().item()"
      ],
      "metadata": {
        "colab": {
          "base_uri": "https://localhost:8080/"
        },
        "id": "oBTSUvy9WTM3",
        "outputId": "e8f4c739-03cc-4b8c-a110-a70072973686"
      },
      "execution_count": null,
      "outputs": [
        {
          "output_type": "execute_result",
          "data": {
            "text/plain": [
              "0.4984288083141478"
            ]
          },
          "metadata": {},
          "execution_count": 52
        }
      ]
    },
    {
      "cell_type": "markdown",
      "source": [
        "## 3. Computing cost\n",
        "#### computing the cost of output sigmoid activation (0<=output<=1) acording to the Y label (0 or 1)"
      ],
      "metadata": {
        "id": "jBYM-DhRSfVx"
      }
    },
    {
      "cell_type": "markdown",
      "source": [
        "<div>\n",
        "<img src=\"https://drive.google.com/uc?export=view&id=1NsvcoKZeeGNHQVHVsIDWyGXacO8Dxajt\" alt=\"gradient descent\" width=\"600\"/>\n",
        "</div>"
      ],
      "metadata": {
        "id": "v7GiNMrmITsS"
      }
    },
    {
      "cell_type": "code",
      "source": [
        "def computing_cost(output, Y):\n",
        "    m = Y.shape[1]\n",
        "    cost = -1 / m * np.sum(Y * np.log(output) + (1 - Y) * np.log(1 - output))\n",
        "    return cost\n",
        "\n",
        "# np.random.seed(seed)\n",
        "\n",
        "label=np.random.randint(2, size=(1,4))\n",
        "Output=np.random.uniform(low=0, high=1, size=(1,4))\n",
        "\n",
        "print(\"label: \",label)\n",
        "print(\"predictaion: \", Output)\n",
        "print(\"cost: \",computing_cost( Output,label))"
      ],
      "metadata": {
        "colab": {
          "base_uri": "https://localhost:8080/"
        },
        "id": "aN1bBj6LboyO",
        "outputId": "113cd601-9fa0-40ca-b6a1-7452a3703b10"
      },
      "execution_count": null,
      "outputs": [
        {
          "output_type": "stream",
          "name": "stdout",
          "text": [
            "label:  [[0 0 1 1]]\n",
            "predictaion:  [[0.23555873 0.47796031 0.41957333 0.51770248]]\n",
            "cost:  0.6113733096067014\n"
          ]
        }
      ]
    },
    {
      "cell_type": "markdown",
      "source": [
        "## 4. Backward Propagation"
      ],
      "metadata": {
        "id": "qdgvfG7ZSmwy"
      }
    },
    {
      "cell_type": "markdown",
      "source": [
        "<div>\n",
        "<img src=\"https://drive.google.com/uc?export=view&id=1CS5oajQJqVQiYBf80ltb7lvbTtEBuNWe\" alt=\"Backward Propagation\" width=\"600\"/>\n",
        "</div>"
      ],
      "metadata": {
        "id": "VWQJQkZut2Vb"
      }
    },
    {
      "cell_type": "markdown",
      "source": [
        "### 4.1 Calculating dZ\n",
        "#### we either have relu or sigmoid function and the formula for calculading dz is:\n",
        "$$dZ^{[l]} = dA^{[l]} * g'(Z^{[l]})$$\n",
        "#### so we need the drevative of these two functions:\n",
        "\n",
        "\n",
        "###derivative of relu function:\n",
        "\\begin{align}\n",
        "relu'(Z)=\\left\\{\\begin{matrix}0\\;\\;\\;\\;\\;\\;\\;\\;\\;\\;Z<0\n",
        " \\\\1\\;\\;\\;\\;\\;\\;\\;\\;\\;\\;Z\\geq0\n",
        "\\end{matrix}\\right.\n",
        "\\end{align}\n",
        "\n",
        "###derivative of sigmoid function:\n",
        "\\begin{align}\n",
        "\\delta'(Z)=\\delta(Z)*(1-\\delta(Z))\n",
        "\\end{align}"
      ],
      "metadata": {
        "id": "S1xcfbXyJ0_I"
      }
    },
    {
      "cell_type": "code",
      "source": [
        "def backward_dz(dA, Z, type_of_activation_function):\n",
        "    dg = 0\n",
        "\n",
        "    # hidden layers: calculating the derivative relu function\n",
        "    if type_of_activation_function == 'r':\n",
        "        dg = np.where(Z < 0, 0, 1)\n",
        "\n",
        "    # output layer: calculating the derivative of sigmoid function\n",
        "    elif type_of_activation_function == 's':\n",
        "        s = 1 / (1 + np.exp(-Z))\n",
        "        dg = s * (1 - s)\n",
        "\n",
        "    dZ = dA * dg\n",
        "    return dZ"
      ],
      "metadata": {
        "id": "CFnQfFvaJnrN"
      },
      "execution_count": null,
      "outputs": []
    },
    {
      "cell_type": "markdown",
      "source": [
        "###4.2 Calculating dW, db, dA_\n",
        "####Using the bellow formulas we are able to calcule the gradients:\n",
        "\n",
        "\n",
        "$$dZ^{[l]} = dA^{[l]} * g'(Z^{[l]})$$\n",
        "\n",
        "$$ dW^{[l]} = \\frac{\\partial \\mathcal{J} }{\\partial W^{[l]}} = \\frac{1}{m} dZ^{[l]} A^{[l-1] T}$$\n",
        "\n",
        "$$ db^{[l]} = \\frac{\\partial \\mathcal{J} }{\\partial b^{[l]}} = \\frac{1}{m} \\sum_{i = 1}^{m} dZ^{[l](i)}$$\n",
        "\n",
        "$$ dA^{[l-1]} = \\frac{\\partial \\mathcal{L} }{\\partial A^{[l-1]}} = W^{[l] T} dZ^{[l]}$$\n",
        "\n",
        "\n"
      ],
      "metadata": {
        "id": "G6aJpKIP9Fd_"
      }
    },
    {
      "cell_type": "code",
      "source": [
        "def backward_params(Output, his, type_of_activation_function):\n",
        "\n",
        "    A_=his[\"A_\"]\n",
        "    W=his[\"W\"]\n",
        "    b=his[\"b\"]\n",
        "    Z=his[\"Z\"]\n",
        "\n",
        "    dZ = backward_dz(Output, Z, type_of_activation_function)\n",
        "    m = A_.shape[1]\n",
        "\n",
        "    dW = 1 / m * np.dot(dZ, A_.T)\n",
        "    db = 1 / m * np.sum(dZ, axis=1, keepdims=True)\n",
        "    dA_ = np.dot(W.T, dZ)\n",
        "\n",
        "    return dA_, dW, db"
      ],
      "metadata": {
        "id": "7kWajDBXS9tl"
      },
      "execution_count": null,
      "outputs": []
    },
    {
      "cell_type": "markdown",
      "source": [
        "### 4.3 Calculating L layers of Backward Propagation\n",
        "#### using the bellow formula and helping functions above, we will calculate the L layers of Backward Propagation\n",
        "\\begin{align}\n",
        "Output'=-\\frac{Y}{A}+\\frac{1-Y}{1-A}\n",
        "\\end{align}"
      ],
      "metadata": {
        "id": "wA9N2t5nFQtJ"
      }
    },
    {
      "cell_type": "code",
      "source": [
        "def backward(Output, Y, L, history):\n",
        "    derivatives = {}\n",
        "    # derivative of the output\n",
        "    dOutput = - np.divide(Y, Output) + np.divide(1 - Y, 1 - Output)\n",
        "\n",
        "    # derivative of last layer (sigmoid)\n",
        "    dA_, dW, db = backward_params(dOutput, history[L - 1], \"s\")\n",
        "    derivatives[\"dA\" + str(L - 1)] = dA_\n",
        "    derivatives[\"dW\" + str(L)] = dW\n",
        "    derivatives[\"db\" + str(L)] = db\n",
        "\n",
        "    # derivative of hidden layers (relu)\n",
        "    for l in range(L - 1):\n",
        "        dA_, dW, db = backward_params(dA_, history[L - 2 - l], \"r\")\n",
        "        derivatives[\"dA\" + str(L - 2 - l)] = dA_\n",
        "        derivatives[\"dW\" + str(L - 1 - l)] = dW\n",
        "        derivatives[\"db\" + str(L - 1 - l)] = db\n",
        "    return derivatives"
      ],
      "metadata": {
        "id": "fOMpcHn5wGBE"
      },
      "execution_count": null,
      "outputs": []
    },
    {
      "cell_type": "markdown",
      "source": [
        "## 4.4. Updating Parameters\n",
        "using these formulas we will update the parameters for L layers\n",
        "\n",
        "$$ W^{[l]} = W^{[l]} - \\alpha \\text{ } dW^{[l]} $$\n",
        "$$ b^{[l]} = b^{[l]} - \\alpha \\text{ } db^{[l]} $$"
      ],
      "metadata": {
        "id": "IajDRLeiGeGU"
      }
    },
    {
      "cell_type": "code",
      "source": [
        "def update(params, derivatives, L, alpha=0.1):\n",
        "    for l in range(1, L + 1):\n",
        "        params[\"W\" + str(l)] = params[\"W\" + str(l)] - alpha * derivatives[\"dW\" + str(l)]\n",
        "        params[\"b\" + str(l)] = params[\"b\" + str(l)] - alpha * derivatives[\"db\" + str(l)]\n",
        "    return params"
      ],
      "metadata": {
        "id": "inLR112oGnvj"
      },
      "execution_count": null,
      "outputs": []
    },
    {
      "cell_type": "markdown",
      "source": [
        "## 5. Classification and Accuracy"
      ],
      "metadata": {
        "id": "qsdjbB4fRsVe"
      }
    },
    {
      "cell_type": "markdown",
      "source": [
        "### 5.1 Classification\n",
        "#### output is the result of sigmoid function so it is between 0 and 1.\n",
        "#### 0.5 is the point where the result changes\n",
        "\n",
        "\\begin{align}\n",
        "Classification(X)=\\left\\{\\begin{matrix}0\\;\\;\\;\\;\\;\\;\\;\\;\\;\\;Output<0.5 \\\\1\\;\\;\\;\\;\\;\\;\\;\\;\\;\\;Output\\geq0.5\\end{matrix}\\right.\n",
        "\\end{align}"
      ],
      "metadata": {
        "id": "EgU0ZsG2dv1m"
      }
    },
    {
      "cell_type": "code",
      "source": [
        "def Classification(Output):\n",
        "    return np.where(Output[0] > 0.5, 1, 0)"
      ],
      "metadata": {
        "id": "kFlSlyRoRrr2"
      },
      "execution_count": null,
      "outputs": []
    },
    {
      "cell_type": "markdown",
      "source": [
        "### 5.2 Accuracy\n",
        "#### after classifing the ouput we shoud check the accuracy.\n",
        "#### thus we will count the correct predicted according to Y"
      ],
      "metadata": {
        "id": "tNKYPRWkeMc0"
      }
    },
    {
      "cell_type": "code",
      "source": [
        "def compute_accuracy(predicted_labels, Y):\n",
        "    # finding the number of correct labeled data\n",
        "    acceracy_ = predicted_labels == Y\n",
        "    # claculating the percentage of true predictions\n",
        "    return acceracy_.sum() / len(Y[0])"
      ],
      "metadata": {
        "id": "JCNoGDnSeL4Y"
      },
      "execution_count": null,
      "outputs": []
    },
    {
      "cell_type": "markdown",
      "source": [
        "#### Testing prediction"
      ],
      "metadata": {
        "id": "7wm4pCfgmEIx"
      }
    },
    {
      "cell_type": "code",
      "source": [
        "# np.random.seed(seed)\n",
        "\n",
        "L_ = 2 - 1\n",
        "\n",
        "X_ = np.random.uniform(low=0, high=1, size=(4, 4))\n",
        "Y_ = np.random.randint(2, size=(1, 4))\n",
        "params_ = initialize_network([4, 1])\n",
        "Output_ = Forward_L_layers(X_, L_, params_)\n",
        "predictaion_ = Classification(Output_)\n",
        "\n",
        "print(\"data: \", X_)\n",
        "print(\"Y: \", Y_)\n",
        "print(\"predictaion: \", predictaion_)\n",
        "print(\"accuracy is: \", compute_accuracy(Y_, predictaion_))"
      ],
      "metadata": {
        "colab": {
          "base_uri": "https://localhost:8080/"
        },
        "id": "UbKHeiyUmB7x",
        "outputId": "5c39e639-9750-4692-eaad-f9132b27f979"
      },
      "execution_count": null,
      "outputs": [
        {
          "output_type": "stream",
          "name": "stdout",
          "text": [
            "data:  [[0.00722859 0.18082794 0.02876041 0.10928891]\n",
            " [0.75852137 0.4722716  0.72124285 0.73066582]\n",
            " [0.2429884  0.11761213 0.30453113 0.62851108]\n",
            " [0.4380611  0.85812148 0.61218844 0.61697568]]\n",
            "Y:  [[0 1 1 0]]\n",
            "predictaion:  [[0 1 0 0]]\n",
            "accuracy is:  0.75\n"
          ]
        }
      ]
    },
    {
      "cell_type": "markdown",
      "source": [
        "# ***Training the model***"
      ],
      "metadata": {
        "id": "PT4J_POH0lbD"
      }
    },
    {
      "cell_type": "markdown",
      "source": [
        "## 1. Assembling the Model\n",
        "#### initializing the network\n",
        "#### loop for k iteration:\n",
        "\n",
        "> #####     forward propagations of L-1 layers\n",
        "> #####     Computing cost\n",
        "> #####     backward pass: computing derivatives\n",
        "> #####     update parameters\n",
        "> #####     compute loss and accuracy in each report_k iteration"
      ],
      "metadata": {
        "id": "V_dZ-nnjx2nu"
      }
    },
    {
      "cell_type": "code",
      "source": [
        "def model(X_train, Y_train, X_val, Y_val, architecture=[16, 1], alpha=0.1, k=1000, report_k=100, random=True,\n",
        "          print_cost=True):\n",
        "    \"\"\"\n",
        "    architecture = the shape of the NN e.g. [16,1] this means 16 input relu and 1 output sigmoid neurons.\n",
        "    alpha ( α ) = the learning rate with the default value of 0.1 (which is rather high!)\n",
        "    k = the number of iterations\n",
        "    report_k = each time after this amount of iteration an accuracy and loss would be calculated\n",
        "    random= random or not initialization of weights and biases\n",
        "    \"\"\"\n",
        "    np.random.seed(seed)\n",
        "\n",
        "    # L= number of layers minus input layer\n",
        "    L = len(architecture) - 1\n",
        "\n",
        "    # initializing model with the shape e.g. [16,20,1] and parameters (Wn, bn) will be returned\n",
        "    params = initialize_network(architecture, random)\n",
        "\n",
        "    # a dictionary for accuracy and loss of both train and validations\n",
        "    accuracy_loss = {\"iterations\": np.array([], dtype=int), \"loss_train\": np.array([]), \"accuracy_train\": np.array([]),\n",
        "                     \"loss_val\": np.array([]), \"accuracy_val\": np.array([])}\n",
        "    # a dictionary for printing costs\n",
        "    accuracy_loss_report_k = {\"iterations\": np.array([], dtype=int), \"loss_train\": np.array([]),\n",
        "                              \"accuracy_train\": np.array([]), \"loss_val\": np.array([]), \"accuracy_val\": np.array([])}\n",
        "    for i in tqdm(range(1, k + 1)):\n",
        "        # Forward pass\n",
        "        Output, history = Forward_L_layers(X_train, L, params)\n",
        "\n",
        "        # compuring cost\n",
        "        cost = computing_cost(Output, Y_train)\n",
        "\n",
        "        # backward pass: computing derivatives\n",
        "        derivatives = backward(Output, Y_train, L, history)\n",
        "\n",
        "        # updating parameters\n",
        "        params = update(params, derivatives, L, alpha)\n",
        "\n",
        "        accuracy_loss[\"iterations\"] = np.append(accuracy_loss[\"iterations\"], i)\n",
        "        # calculate out put of val\n",
        "        Output_val, history_ = Forward_L_layers(X_val, L, params)\n",
        "\n",
        "        # calculate loss\n",
        "        accuracy_loss[\"loss_train\"] = np.append(accuracy_loss[\"loss_train\"], computing_cost(Output, Y_train))\n",
        "        accuracy_loss[\"loss_val\"] = np.append(accuracy_loss[\"loss_val\"], computing_cost(Output_val, Y_val))\n",
        "\n",
        "        # classifying the Output\n",
        "        label_train = Classification(Output)\n",
        "        label_val = Classification(Output_val)\n",
        "\n",
        "        # calculate accuracy\n",
        "        accuracy_loss[\"accuracy_train\"] = np.append(accuracy_loss[\"accuracy_train\"],\n",
        "                                                    compute_accuracy(label_train, Y_train))\n",
        "        accuracy_loss[\"accuracy_val\"] = np.append(accuracy_loss[\"accuracy_val\"], compute_accuracy(label_val, Y_val))\n",
        "\n",
        "        if i % report_k == 0:\n",
        "            accuracy_loss_report_k[\"iterations\"] = np.append(accuracy_loss_report_k[\"iterations\"],\n",
        "                                                            accuracy_loss[\"iterations\"][-1])\n",
        "            accuracy_loss_report_k[\"loss_train\"] = np.append(accuracy_loss_report_k[\"loss_train\"],\n",
        "                                                             accuracy_loss[\"loss_train\"][-1])\n",
        "            accuracy_loss_report_k[\"accuracy_train\"] = np.append(accuracy_loss_report_k[\"accuracy_train\"],\n",
        "                                                                 accuracy_loss[\"accuracy_train\"][-1])\n",
        "            accuracy_loss_report_k[\"loss_val\"] = np.append(accuracy_loss_report_k[\"loss_val\"],\n",
        "                                                           accuracy_loss[\"loss_val\"][-1])\n",
        "            accuracy_loss_report_k[\"accuracy_val\"] = np.append(accuracy_loss_report_k[\"accuracy_val\"],\n",
        "                                                               accuracy_loss[\"accuracy_val\"][-1])\n",
        "    if print_cost:\n",
        "        for key, value in accuracy_loss_report_k.items():\n",
        "            print(\"\\n\")\n",
        "            print(key, ' : ', value)\n",
        "\n",
        "    return accuracy_loss, accuracy_loss_report_k\n"
      ],
      "metadata": {
        "id": "ytBAcf4VS8eW"
      },
      "execution_count": null,
      "outputs": []
    },
    {
      "cell_type": "markdown",
      "source": [
        "#### Testing Model"
      ],
      "metadata": {
        "id": "wJPmz-R6D3SE"
      }
    },
    {
      "cell_type": "code",
      "source": [
        "np.random.seed(seed)\n",
        "\n",
        "X_train_ = np.random.uniform(low=0, high=1, size=(16, 480))\n",
        "Y_train_ = np.random.randint(2, size=(1, 480))\n",
        "X_val_ = np.random.uniform(low=0, high=1, size=(16, 96))\n",
        "Y_val_ = np.random.randint(2, size=(1, 96))\n",
        "accuracy_loss, report_k_vals = model(X_train_, Y_train_, X_val_, Y_val_, architecture=[16, 1], alpha=0.01, k=200, report_k=50, random=True)"
      ],
      "metadata": {
        "colab": {
          "base_uri": "https://localhost:8080/"
        },
        "id": "St96KRBR0n_O",
        "outputId": "dbf420bb-8915-4240-8d80-6010f4055565"
      },
      "execution_count": null,
      "outputs": [
        {
          "output_type": "stream",
          "name": "stderr",
          "text": [
            "100%|██████████| 200/200 [00:00<00:00, 3511.85it/s]"
          ]
        },
        {
          "output_type": "stream",
          "name": "stdout",
          "text": [
            "\n",
            "\n",
            "iterations  :  [ 50 100 150 200]\n",
            "\n",
            "\n",
            "loss_train  :  [0.69254792 0.69226181 0.69203328 0.69182322]\n",
            "\n",
            "\n",
            "accuracy_train  :  [0.5125     0.51041667 0.51041667 0.51041667]\n",
            "\n",
            "\n",
            "loss_val  :  [0.69560651 0.69599994 0.69613131 0.69611592]\n",
            "\n",
            "\n",
            "accuracy_val  :  [0.44791667 0.45833333 0.45833333 0.45833333]\n"
          ]
        },
        {
          "output_type": "stream",
          "name": "stderr",
          "text": [
            "\n"
          ]
        }
      ]
    },
    {
      "cell_type": "markdown",
      "source": [
        "##2. Drawing Plot and table\n",
        "### drawing the plot for accuacy and loss in train and valid"
      ],
      "metadata": {
        "id": "N6oqD4ioMBZT"
      }
    },
    {
      "cell_type": "code",
      "source": [
        "def draw_plot(title, accuracy_loss, k=1):\n",
        "    print(\"\\n\")\n",
        "    plt.figure(figsize=(30, 6))\n",
        "\n",
        "    plt.subplot(1, 2, 1)\n",
        "    plt.ylim([0, 1])\n",
        "\n",
        "    plt.plot(accuracy_loss[\"iterations\"][::k], accuracy_loss[\"accuracy_train\"][::k], label=\"train\")\n",
        "    plt.plot(accuracy_loss[\"iterations\"][::k], accuracy_loss[\"accuracy_val\"][::k], label=\"validation\")\n",
        "    plt.xlabel('epochs')\n",
        "    plt.ylabel(\"Accuracy\")\n",
        "    plt.legend()\n",
        "    plt.title(\"Accuracy\", fontweight='bold')\n",
        "\n",
        "    plt.subplot(1, 2, 2)\n",
        "    plt.ylim([0, 1])\n",
        "    plt.plot(accuracy_loss[\"iterations\"][::k], accuracy_loss[\"loss_train\"][::k], label=\"train\")\n",
        "    plt.plot(accuracy_loss[\"iterations\"][::k], accuracy_loss[\"loss_val\"][::k], label=\"validation\")\n",
        "    plt.xlabel('epochs')\n",
        "    plt.ylabel(\"Loss\")\n",
        "    plt.legend()\n",
        "    plt.title(\"Loss\", fontweight='bold')\n",
        "\n",
        "    plt.suptitle(title, fontsize=20, fontweight='bold', y=1.02)\n",
        "    plt.show()\n",
        "\n",
        "\n",
        "draw_plot(\"Testing Random Model\", report_k_vals)"
      ],
      "metadata": {
        "colab": {
          "base_uri": "https://localhost:8080/",
          "height": 484
        },
        "id": "iqVu_-T3FXVq",
        "outputId": "15a13b53-c4d4-4885-d42a-fdbd0bc28066"
      },
      "execution_count": null,
      "outputs": [
        {
          "output_type": "stream",
          "name": "stdout",
          "text": [
            "\n",
            "\n"
          ]
        },
        {
          "output_type": "display_data",
          "data": {
            "text/plain": [
              "<Figure size 2160x432 with 2 Axes>"
            ],
            "image/png": "[encoded data removed]"
          },
          "metadata": {
            "needs_background": "light"
          }
        }
      ]
    },
    {
      "cell_type": "markdown",
      "source": [
        "### functions for printing tables"
      ],
      "metadata": {
        "id": "G57Qw-IkiWWj"
      }
    },
    {
      "cell_type": "code",
      "source": [
        "def print_table(data, head=['Number of Layers', 'Train Loss', 'Train Accuracy', 'Val Loss', 'Val Accuracy'],\n",
        "    rows=['2', '3', '5']):\n",
        "    # for p in data:\n",
        "    #     print(p)\n",
        "    table = [head]\n",
        "    for i in range(len(data)):\n",
        "        row_list = [rows[i]]\n",
        "        for j in range(len(data[i])):\n",
        "            row_list.append(data[i][j][-1])\n",
        "        table.append(row_list)\n",
        "    return tabulate(table, headers='firstrow', tablefmt='fancy_grid')\n",
        "\n",
        "# a function for turning dictionary of costs and accuracies to matrix\n",
        "def dic_to_matrix(data):\n",
        "    tmp= [data[\"loss_train\"], data[\"accuracy_train\"], data[\"loss_val\"], data[\"accuracy_val\"]]\n",
        "    # print(tmp)\n",
        "    return tmp"
      ],
      "metadata": {
        "id": "xphemD2cZy0A"
      },
      "execution_count": null,
      "outputs": []
    },
    {
      "cell_type": "markdown",
      "source": [
        "## 3. Training Model"
      ],
      "metadata": {
        "id": "GRSdBpOdi0dG"
      }
    },
    {
      "cell_type": "markdown",
      "source": [
        "#### Setting Hyper Parameters"
      ],
      "metadata": {
        "id": "H7s6Exhdnh8V"
      }
    },
    {
      "cell_type": "code",
      "source": [
        "architecture_2 = [16, 1]\n",
        "architecture_3 = [16, 32, 1]\n",
        "architecture_5 = [16, 32, 40, 8, 1]\n",
        "alpha = 0.1\n",
        "k = 1000\n",
        "report_k = 100"
      ],
      "metadata": {
        "id": "1iAvYcESnhEa"
      },
      "execution_count": null,
      "outputs": []
    },
    {
      "cell_type": "markdown",
      "source": [
        "### 3.1. Zero Initialization"
      ],
      "metadata": {
        "id": "f3gPeCtuTJYE"
      }
    },
    {
      "cell_type": "markdown",
      "source": [
        "#### 2-Layer Model Zero Initialization"
      ],
      "metadata": {
        "id": "iBo7z7zgT0T6"
      }
    },
    {
      "cell_type": "code",
      "source": [
        "accuracy_loss_zero_2, report_k_vals= model(X_train, y_train, X_val, y_val, architecture=architecture_2, alpha=alpha, k=k, report_k=report_k, random=False)\n",
        "draw_plot(\"2-Layer Model Zero Initialization\", report_k_vals)"
      ],
      "metadata": {
        "colab": {
          "base_uri": "https://localhost:8080/",
          "height": 831
        },
        "id": "Qeza5U88PqlY",
        "outputId": "fc1083f7-04fb-47d8-fb22-d3ce0f7977a8"
      },
      "execution_count": null,
      "outputs": [
        {
          "output_type": "stream",
          "name": "stderr",
          "text": [
            "100%|██████████| 1000/1000 [00:00<00:00, 3383.04it/s]\n"
          ]
        },
        {
          "output_type": "stream",
          "name": "stdout",
          "text": [
            "\n",
            "\n",
            "iterations  :  [ 100  200  300  400  500  600  700  800  900 1000]\n",
            "\n",
            "\n",
            "loss_train  :  [0.46222579 0.41257588 0.38852168 0.37346388 0.36273872 0.35453095\n",
            " 0.34796716 0.34256158 0.33801512 0.33412981]\n",
            "\n",
            "\n",
            "accuracy_train  :  [0.80208333 0.81510417 0.80208333 0.8125     0.8203125  0.82291667\n",
            " 0.83072917 0.8359375  0.8359375  0.83854167]\n",
            "\n",
            "\n",
            "loss_val  :  [0.54928815 0.49785582 0.47487404 0.46183975 0.45350957 0.44783043\n",
            " 0.44381408 0.44091462 0.4388008  0.437258  ]\n",
            "\n",
            "\n",
            "accuracy_val  :  [0.70833333 0.72916667 0.76041667 0.77083333 0.78125    0.79166667\n",
            " 0.80208333 0.80208333 0.8125     0.8125    ]\n",
            "\n",
            "\n"
          ]
        },
        {
          "output_type": "display_data",
          "data": {
            "text/plain": [
              "<Figure size 2160x432 with 2 Axes>"
            ],
            "image/png": "[encoded data removed]"
          },
          "metadata": {
            "needs_background": "light"
          }
        }
      ]
    },
    {
      "cell_type": "markdown",
      "source": [
        "#### 3-Layer Model Zero Initialization"
      ],
      "metadata": {
        "id": "dOgQMKE2UDyB"
      }
    },
    {
      "cell_type": "code",
      "source": [
        "accuracy_loss_zero_3, report_k_vals = model(X_train, y_train, X_val, y_val, architecture=architecture_3, alpha=alpha, k=k, report_k=report_k, random=False)\n",
        "draw_plot(\"3-Layer Model Zero Initialization\", report_k_vals)"
      ],
      "metadata": {
        "colab": {
          "base_uri": "https://localhost:8080/",
          "height": 831
        },
        "id": "aBIAWIoVTIhK",
        "outputId": "6745788c-0fe3-4664-b225-0631d79183c1"
      },
      "execution_count": null,
      "outputs": [
        {
          "output_type": "stream",
          "name": "stderr",
          "text": [
            "100%|██████████| 1000/1000 [00:00<00:00, 1062.79it/s]\n"
          ]
        },
        {
          "output_type": "stream",
          "name": "stdout",
          "text": [
            "\n",
            "\n",
            "iterations  :  [ 100  200  300  400  500  600  700  800  900 1000]\n",
            "\n",
            "\n",
            "loss_train  :  [0.58291262 0.58151491 0.58149004 0.58148957 0.58148956 0.58148956\n",
            " 0.58148956 0.58148956 0.58148956 0.58148956]\n",
            "\n",
            "\n",
            "accuracy_train  :  [0.73177083 0.73177083 0.73177083 0.73177083 0.73177083 0.73177083\n",
            " 0.73177083 0.73177083 0.73177083 0.73177083]\n",
            "\n",
            "\n",
            "loss_val  :  [0.70523797 0.71786345 0.71971308 0.71996977 0.72000516 0.72001004\n",
            " 0.72001071 0.7200108  0.72001081 0.72001082]\n",
            "\n",
            "\n",
            "accuracy_val  :  [0.59375 0.59375 0.59375 0.59375 0.59375 0.59375 0.59375 0.59375 0.59375\n",
            " 0.59375]\n",
            "\n",
            "\n"
          ]
        },
        {
          "output_type": "display_data",
          "data": {
            "text/plain": [
              "<Figure size 2160x432 with 2 Axes>"
            ],
            "image/png": "[encoded data removed]"
          },
          "metadata": {
            "needs_background": "light"
          }
        }
      ]
    },
    {
      "cell_type": "markdown",
      "source": [
        "#### 5-Layer Model Zero Initialization"
      ],
      "metadata": {
        "id": "hC6DmwXZUFM2"
      }
    },
    {
      "cell_type": "code",
      "source": [
        "accuracy_loss_zero_5, report_k_vals= model(X_train, y_train, X_val, y_val, architecture=architecture_5, alpha=alpha, k=k, report_k=report_k, random=False)\n",
        "draw_plot(\"5-Layer Model Zero Initialization\", report_k_vals)"
      ],
      "metadata": {
        "colab": {
          "base_uri": "https://localhost:8080/",
          "height": 831
        },
        "id": "2ZSitiFeTPkz",
        "outputId": "a54047c0-fc58-4753-874e-13f586468bff"
      },
      "execution_count": null,
      "outputs": [
        {
          "output_type": "stream",
          "name": "stderr",
          "text": [
            "100%|██████████| 1000/1000 [00:01<00:00, 525.75it/s]\n"
          ]
        },
        {
          "output_type": "stream",
          "name": "stdout",
          "text": [
            "\n",
            "\n",
            "iterations  :  [ 100  200  300  400  500  600  700  800  900 1000]\n",
            "\n",
            "\n",
            "loss_train  :  [0.58291262 0.58151491 0.58149004 0.58148957 0.58148956 0.58148956\n",
            " 0.58148956 0.58148956 0.58148956 0.58148956]\n",
            "\n",
            "\n",
            "accuracy_train  :  [0.73177083 0.73177083 0.73177083 0.73177083 0.73177083 0.73177083\n",
            " 0.73177083 0.73177083 0.73177083 0.73177083]\n",
            "\n",
            "\n",
            "loss_val  :  [0.70523797 0.71786345 0.71971308 0.71996977 0.72000516 0.72001004\n",
            " 0.72001071 0.7200108  0.72001081 0.72001082]\n",
            "\n",
            "\n",
            "accuracy_val  :  [0.59375 0.59375 0.59375 0.59375 0.59375 0.59375 0.59375 0.59375 0.59375\n",
            " 0.59375]\n",
            "\n",
            "\n"
          ]
        },
        {
          "output_type": "display_data",
          "data": {
            "text/plain": [
              "<Figure size 2160x432 with 2 Axes>"
            ],
            "image/png": "[encoded data removed]"
          },
          "metadata": {
            "needs_background": "light"
          }
        }
      ]
    },
    {
      "cell_type": "markdown",
      "source": [
        "### 3.2. Random Initialization"
      ],
      "metadata": {
        "id": "FNard6RvUjzx"
      }
    },
    {
      "cell_type": "markdown",
      "source": [
        "#### 2-Layer Model Random Initialization"
      ],
      "metadata": {
        "id": "fKeTpBn8UBuY"
      }
    },
    {
      "cell_type": "code",
      "source": [
        "accuracy_loss_random_2,report_k_vals = model(X_train, y_train, X_val, y_val, architecture=architecture_2, alpha=alpha, k=k, report_k=report_k, random=True)\n",
        "draw_plot(\"2-Layer Model Random Initialization\", report_k_vals)"
      ],
      "metadata": {
        "colab": {
          "base_uri": "https://localhost:8080/",
          "height": 831
        },
        "id": "2nWscj2iT1NS",
        "outputId": "53b80c40-7cc3-4b07-9a7d-c751e5743884"
      },
      "execution_count": null,
      "outputs": [
        {
          "output_type": "stream",
          "name": "stderr",
          "text": [
            "100%|██████████| 1000/1000 [00:00<00:00, 3629.53it/s]\n"
          ]
        },
        {
          "output_type": "stream",
          "name": "stdout",
          "text": [
            "\n",
            "\n",
            "iterations  :  [ 100  200  300  400  500  600  700  800  900 1000]\n",
            "\n",
            "\n",
            "loss_train  :  [0.46235197 0.41273914 0.38866299 0.3735793  0.3628334  0.35461041\n",
            " 0.34803574 0.34262239 0.33807035 0.33418096]\n",
            "\n",
            "\n",
            "accuracy_train  :  [0.8046875  0.81510417 0.80208333 0.81510417 0.8203125  0.828125\n",
            " 0.83072917 0.8359375  0.8359375  0.83854167]\n",
            "\n",
            "\n",
            "loss_val  :  [0.54966268 0.49817623 0.47509826 0.46198602 0.45359966 0.4478814\n",
            " 0.44383817 0.44092038 0.43879416 0.43724307]\n",
            "\n",
            "\n",
            "accuracy_val  :  [0.70833333 0.72916667 0.76041667 0.76041667 0.78125    0.79166667\n",
            " 0.80208333 0.80208333 0.8125     0.8125    ]\n",
            "\n",
            "\n"
          ]
        },
        {
          "output_type": "display_data",
          "data": {
            "text/plain": [
              "<Figure size 2160x432 with 2 Axes>"
            ],
            "image/png": "[encoded data removed]"
          },
          "metadata": {
            "needs_background": "light"
          }
        }
      ]
    },
    {
      "cell_type": "markdown",
      "source": [
        "#### 3-Layer Model Random Initialization"
      ],
      "metadata": {
        "id": "DqbeFnCuUu-U"
      }
    },
    {
      "cell_type": "code",
      "source": [
        "accuracy_loss_random_3, report_k_vals = model(X_train, y_train, X_val, y_val, architecture=architecture_3, alpha=alpha, k=k, report_k=report_k, random=True)\n",
        "draw_plot(\"3-Layer Model Random Initialization\", report_k_vals)"
      ],
      "metadata": {
        "colab": {
          "base_uri": "https://localhost:8080/",
          "height": 831
        },
        "id": "81Uwd_34UC3z",
        "outputId": "279c1017-297e-4baa-9179-25624a9d032c"
      },
      "execution_count": null,
      "outputs": [
        {
          "output_type": "stream",
          "name": "stderr",
          "text": [
            "100%|██████████| 1000/1000 [00:01<00:00, 993.32it/s]\n"
          ]
        },
        {
          "output_type": "stream",
          "name": "stdout",
          "text": [
            "\n",
            "\n",
            "iterations  :  [ 100  200  300  400  500  600  700  800  900 1000]\n",
            "\n",
            "\n",
            "loss_train  :  [0.57883254 0.52497274 0.38739406 0.33978241 0.31989889 0.30922276\n",
            " 0.30315634 0.29959075 0.29742651 0.29607513]\n",
            "\n",
            "\n",
            "accuracy_train  :  [0.73177083 0.73177083 0.81770833 0.8359375  0.8515625  0.859375\n",
            " 0.85677083 0.859375   0.86197917 0.86458333]\n",
            "\n",
            "\n",
            "loss_val  :  [0.70110272 0.64356769 0.47594378 0.43691515 0.43121871 0.4339114\n",
            " 0.4387489  0.44371737 0.44808191 0.45170119]\n",
            "\n",
            "\n",
            "accuracy_val  :  [0.59375    0.59375    0.76041667 0.79166667 0.80208333 0.80208333\n",
            " 0.8125     0.80208333 0.80208333 0.80208333]\n",
            "\n",
            "\n"
          ]
        },
        {
          "output_type": "display_data",
          "data": {
            "text/plain": [
              "<Figure size 2160x432 with 2 Axes>"
            ],
            "image/png": "[encoded data removed]"
          },
          "metadata": {
            "needs_background": "light"
          }
        }
      ]
    },
    {
      "cell_type": "markdown",
      "source": [
        "#### 5-Layer Model Random Initialization"
      ],
      "metadata": {
        "id": "poe_vpsMVLGD"
      }
    },
    {
      "cell_type": "code",
      "source": [
        "accuracy_loss_random_5, report_k_vals= model(X_train, y_train, X_val, y_val, architecture=architecture_5, alpha=alpha, k=k, report_k=report_k, random=True)\n",
        "draw_plot(\"5-Layer Model Random Initialization\", report_k_vals)"
      ],
      "metadata": {
        "colab": {
          "base_uri": "https://localhost:8080/",
          "height": 831
        },
        "id": "H0CDpPXaUGwr",
        "outputId": "a63705ba-0775-4087-fb46-d9cc26276123"
      },
      "execution_count": null,
      "outputs": [
        {
          "output_type": "stream",
          "name": "stderr",
          "text": [
            "100%|██████████| 1000/1000 [00:01<00:00, 500.98it/s]\n"
          ]
        },
        {
          "output_type": "stream",
          "name": "stdout",
          "text": [
            "\n",
            "\n",
            "iterations  :  [ 100  200  300  400  500  600  700  800  900 1000]\n",
            "\n",
            "\n",
            "loss_train  :  [0.58291426 0.5815148  0.58148994 0.58148947 0.58148946 0.58148945\n",
            " 0.58148945 0.58148945 0.58148945 0.58148944]\n",
            "\n",
            "\n",
            "accuracy_train  :  [0.73177083 0.73177083 0.73177083 0.73177083 0.73177083 0.73177083\n",
            " 0.73177083 0.73177083 0.73177083 0.73177083]\n",
            "\n",
            "\n",
            "loss_val  :  [0.70522997 0.71786398 0.71971335 0.71996978 0.7200051  0.72000996\n",
            " 0.72001062 0.72001071 0.72001072 0.72001072]\n",
            "\n",
            "\n",
            "accuracy_val  :  [0.59375 0.59375 0.59375 0.59375 0.59375 0.59375 0.59375 0.59375 0.59375\n",
            " 0.59375]\n",
            "\n",
            "\n"
          ]
        },
        {
          "output_type": "display_data",
          "data": {
            "text/plain": [
              "<Figure size 2160x432 with 2 Axes>"
            ],
            "image/png": "[encoded data removed]"
          },
          "metadata": {
            "needs_background": "light"
          }
        }
      ]
    },
    {
      "cell_type": "markdown",
      "source": [
        "# ***Evaluating the model***"
      ],
      "metadata": {
        "id": "YPVKG5AS0zeY"
      }
    },
    {
      "cell_type": "markdown",
      "source": [
        "###Result of the last Iteration"
      ],
      "metadata": {
        "id": "BNlynJIi-CgC"
      }
    },
    {
      "cell_type": "code",
      "source": [
        "print(\"\\n\\nzero initialization:\\n\")\n",
        "print(print_table(\n",
        "    [dic_to_matrix(accuracy_loss_zero_2), dic_to_matrix(accuracy_loss_zero_3), dic_to_matrix(accuracy_loss_zero_5)]))\n",
        "\n",
        "print(\"\\n\\n\\nRandom initialization:\\n\")\n",
        "print(print_table([dic_to_matrix(accuracy_loss_random_2), dic_to_matrix(accuracy_loss_random_3), dic_to_matrix(accuracy_loss_random_5)]))"
      ],
      "metadata": {
        "colab": {
          "base_uri": "https://localhost:8080/"
        },
        "id": "cbTGOcivVJGp",
        "outputId": "a27ff55d-584d-43fa-99b5-43980390f7b1"
      },
      "execution_count": null,
      "outputs": [
        {
          "output_type": "stream",
          "name": "stdout",
          "text": [
            "\n",
            "\n",
            "zero initialization:\n",
            "\n",
            "╒════════════════════╤══════════════╤══════════════════╤════════════╤════════════════╕\n",
            "│   Number of Layers │   Train Loss │   Train Accuracy │   Val Loss │   Val Accuracy │\n",
            "╞════════════════════╪══════════════╪══════════════════╪════════════╪════════════════╡\n",
            "│                  2 │      0.33413 │         0.838542 │   0.437258 │        0.8125  │\n",
            "├────────────────────┼──────────────┼──────────────────┼────────────┼────────────────┤\n",
            "│                  3 │      0.58149 │         0.731771 │   0.720011 │        0.59375 │\n",
            "├────────────────────┼──────────────┼──────────────────┼────────────┼────────────────┤\n",
            "│                  5 │      0.58149 │         0.731771 │   0.720011 │        0.59375 │\n",
            "╘════════════════════╧══════════════╧══════════════════╧════════════╧════════════════╛\n",
            "\n",
            "\n",
            "\n",
            "Random initialization:\n",
            "\n",
            "╒════════════════════╤══════════════╤══════════════════╤════════════╤════════════════╕\n",
            "│   Number of Layers │   Train Loss │   Train Accuracy │   Val Loss │   Val Accuracy │\n",
            "╞════════════════════╪══════════════╪══════════════════╪════════════╪════════════════╡\n",
            "│                  2 │     0.334181 │         0.838542 │   0.437243 │       0.8125   │\n",
            "├────────────────────┼──────────────┼──────────────────┼────────────┼────────────────┤\n",
            "│                  3 │     0.296075 │         0.864583 │   0.451701 │       0.802083 │\n",
            "├────────────────────┼──────────────┼──────────────────┼────────────┼────────────────┤\n",
            "│                  5 │     0.581489 │         0.731771 │   0.720011 │       0.59375  │\n",
            "╘════════════════════╧══════════════╧══════════════════╧════════════╧════════════════╛\n"
          ]
        }
      ]
    },
    {
      "cell_type": "markdown",
      "source": [
        "###Result according to the best iteration"
      ],
      "metadata": {
        "id": "bPY1fXcT-GuV"
      }
    },
    {
      "cell_type": "code",
      "source": [
        "def find_max_i(data):\n",
        "    max_train_accuray = np.where(data[\"accuracy_train\"] == np.max(data[\"accuracy_train\"]))[0][0]\n",
        "    max_val_accuracy = np.where(data[\"accuracy_val\"] == np.max(data[\"accuracy_val\"]))[0][0]\n",
        "    min_train_loss = np.where(data[\"loss_train\"] == np.min(data[\"loss_train\"]))[0][0]\n",
        "    min_val_loss = np.where(data[\"loss_val\"] == np.min(data[\"loss_val\"]))[0][0]\n",
        "\n",
        "    # creating the columns according to the report\n",
        "    accuray_loss_train__min_loss = [\"Accuracy: \" + str(data[\"accuracy_train\"][min_train_loss]) + \"\\nLoss: \" + str(\n",
        "        data[\"loss_train\"][min_train_loss])]\n",
        "    accuray_loss_val__min_loss = [\n",
        "        \"Accuracy: \" + str(data[\"accuracy_val\"][min_val_loss]) + \"\\nLoss: \" + str(data[\"loss_val\"][min_val_loss])]\n",
        "    accuray_loss_train__max_accuracy = [\n",
        "        \"Accuracy: \" + str(data[\"accuracy_train\"][max_train_accuray]) + \"\\nLoss: \" + str(\n",
        "            data[\"loss_train\"][max_train_accuray])]\n",
        "    accuray_loss_val__max_accuracy = [\"Accuracy: \" + str(data[\"accuracy_val\"][max_val_accuracy]) + \"\\nLoss: \" + str(\n",
        "        data[\"loss_val\"][max_val_accuracy])]\n",
        "\n",
        "    return [accuray_loss_train__min_loss, accuray_loss_val__min_loss, accuray_loss_train__max_accuracy,\n",
        "            accuray_loss_val__max_accuracy]\n",
        "\n",
        "\n",
        "print(\"\\n\\nZero initialization:\\n\", \"\\nk =\", k, \"\\nalpha =\", alpha, \"\\n\")\n",
        "print(print_table(\n",
        "    [find_max_i(accuracy_loss_zero_2), find_max_i(accuracy_loss_zero_3), find_max_i(accuracy_loss_zero_5)],\n",
        "    head=[\"Number of Layers\",\n",
        "          \"Accuracy and Loss of train set\\naccording to Min train Loss\",\n",
        "          \"Accuracy and Loss of val set\\naccording to Min val Loss\",\n",
        "          \"Accuracy and Loss of train set\\naccording to Max train Accuracy\",\n",
        "          \"Accuracy and Loss of train set\\naccording to Max val Accuracy\"]))\n",
        "\n",
        "print(\"\\n\\n\\nRandom initialization:\\n\", \"\\nk =\", k, \"\\nalpha =\", alpha, \"\\n\")\n",
        "print(print_table(\n",
        "    [find_max_i(accuracy_loss_random_2), find_max_i(accuracy_loss_random_3), find_max_i(accuracy_loss_random_5)],\n",
        "    head=[\"Number of Layers\",\n",
        "          \"Accuracy and Loss of train set\\naccording to Min train Loss\",\n",
        "          \"Accuracy and Loss of val set\\naccording to Min val Loss\",\n",
        "          \"Accuracy and Loss of train set\\naccording to Max train Accuracy\",\n",
        "          \"Accuracy and Loss of val set\\naccording to Max val Accuracy\"]))\n"
      ],
      "metadata": {
        "colab": {
          "base_uri": "https://localhost:8080/"
        },
        "id": "8I_Cqlws1iyg",
        "outputId": "d8271438-26ed-437b-9705-322c7fe7bb64"
      },
      "execution_count": null,
      "outputs": [
        {
          "output_type": "stream",
          "name": "stdout",
          "text": [
            "\n",
            "\n",
            "Zero initialization:\n",
            " \n",
            "k = 1000 \n",
            "alpha = 0.1 \n",
            "\n",
            "╒════════════════════╤══════════════════════════════════╤════════════════════════════════╤═══════════════════════════════════╤══════════════════════════════════╕\n",
            "│   Number of Layers │ Accuracy and Loss of train set   │ Accuracy and Loss of val set   │ Accuracy and Loss of train set    │ Accuracy and Loss of train set   │\n",
            "│                    │ according to Min train Loss      │ according to Min val Loss      │ according to Max train Accuracy   │ according to Max val Accuracy    │\n",
            "╞════════════════════╪══════════════════════════════════╪════════════════════════════════╪═══════════════════════════════════╪══════════════════════════════════╡\n",
            "│                  2 │ Accuracy: 0.8385416666666666     │ Accuracy: 0.8125               │ Accuracy: 0.8385416666666666      │ Accuracy: 0.8125                 │\n",
            "│                    │ Loss: 0.3341298061400587         │ Loss: 0.4372580017286208       │ Loss: 0.34183055533922524         │ Loss: 0.4390021899421154         │\n",
            "├────────────────────┼──────────────────────────────────┼────────────────────────────────┼───────────────────────────────────┼──────────────────────────────────┤\n",
            "│                  3 │ Accuracy: 0.7317708333333334     │ Accuracy: 0.59375              │ Accuracy: 0.7317708333333334      │ Accuracy: 0.59375                │\n",
            "│                    │ Loss: 0.5814895633418021         │ Loss: 0.6754659858598195       │ Loss: 0.6878425542876629          │ Loss: 0.6910414746435658         │\n",
            "├────────────────────┼──────────────────────────────────┼────────────────────────────────┼───────────────────────────────────┼──────────────────────────────────┤\n",
            "│                  5 │ Accuracy: 0.7317708333333334     │ Accuracy: 0.59375              │ Accuracy: 0.7317708333333334      │ Accuracy: 0.59375                │\n",
            "│                    │ Loss: 0.5814895633418021         │ Loss: 0.6754659858598195       │ Loss: 0.6878425542876629          │ Loss: 0.6910414746435658         │\n",
            "╘════════════════════╧══════════════════════════════════╧════════════════════════════════╧═══════════════════════════════════╧══════════════════════════════════╛\n",
            "\n",
            "\n",
            "\n",
            "Random initialization:\n",
            " \n",
            "k = 1000 \n",
            "alpha = 0.1 \n",
            "\n",
            "╒════════════════════╤══════════════════════════════════╤════════════════════════════════╤═══════════════════════════════════╤═════════════════════════════════╕\n",
            "│   Number of Layers │ Accuracy and Loss of train set   │ Accuracy and Loss of val set   │ Accuracy and Loss of train set    │ Accuracy and Loss of val set    │\n",
            "│                    │ according to Min train Loss      │ according to Min val Loss      │ according to Max train Accuracy   │ according to Max val Accuracy   │\n",
            "╞════════════════════╪══════════════════════════════════╪════════════════════════════════╪═══════════════════════════════════╪═════════════════════════════════╡\n",
            "│                  2 │ Accuracy: 0.8385416666666666     │ Accuracy: 0.8125               │ Accuracy: 0.8385416666666666      │ Accuracy: 0.8125                │\n",
            "│                    │ Loss: 0.334180963296714          │ Loss: 0.43724306517513023      │ Loss: 0.3416983605202647          │ Loss: 0.43918698146776114       │\n",
            "├────────────────────┼──────────────────────────────────┼────────────────────────────────┼───────────────────────────────────┼─────────────────────────────────┤\n",
            "│                  3 │ Accuracy: 0.8645833333333334     │ Accuracy: 0.8020833333333334   │ Accuracy: 0.8645833333333334      │ Accuracy: 0.8125                │\n",
            "│                    │ Loss: 0.2960751313068038         │ Loss: 0.4312179848829363       │ Loss: 0.2962985847697907          │ Loss: 0.43268440375523975       │\n",
            "├────────────────────┼──────────────────────────────────┼────────────────────────────────┼───────────────────────────────────┼─────────────────────────────────┤\n",
            "│                  5 │ Accuracy: 0.7317708333333334     │ Accuracy: 0.59375              │ Accuracy: 0.7317708333333334      │ Accuracy: 0.59375               │\n",
            "│                    │ Loss: 0.5814894426274395         │ Loss: 0.6754653742870771       │ Loss: 0.688163692834787           │ Loss: 0.691166596804643         │\n",
            "╘════════════════════╧══════════════════════════════════╧════════════════════════════════╧═══════════════════════════════════╧═════════════════════════════════╛\n"
          ]
        }
      ]
    },
    {
      "cell_type": "markdown",
      "source": [
        "## Optimization method"
      ],
      "metadata": {
        "id": "1uBuTylNjuOQ"
      }
    },
    {
      "cell_type": "markdown",
      "source": [
        "### Xavier initialization: \n",
        "\n",
        "### we know that z is equal to:\n",
        "$$Z=b+w1⋅x1+w2⋅x2+...+wn⋅xn$$\n",
        "while using Relu function we can set the variance to:\n",
        "$$ \\sigma^2 = {\\frac{1}{size(l)}} $$\n",
        "and then multiply this value in the weight matrix\n",
        "$$ W_l =np.random.randn(shape)*\\sqrt{\\frac{2}{size(l-1)}} $$"
      ],
      "metadata": {
        "id": "6820kt0-jy9W"
      }
    },
    {
      "cell_type": "code",
      "source": [
        "def initialize_network(dimensions, random=True):\n",
        "    # e.g. dimensions=[16,20,1] input:16, hidden-1:20 output:1\n",
        "    params = {}  # dictionary of params containing Wl, bl\n",
        "    for l in range(len(dimensions) - 1):\n",
        "        if random:\n",
        "            np.random.seed(seed)\n",
        "\n",
        "            params[\"W\" + str(l + 1)] = np.random.randn(dimensions[l + 1], dimensions[l]) * np.sqrt(2 / dimensions[l])\n",
        "            params[\"b\" + str(l + 1)] = np.random.randn(dimensions[l + 1], 1) * np.sqrt(2 / dimensions[l])\n",
        "        else:\n",
        "            params[\"W\" + str(l + 1)] = np.zeros((dimensions[l + 1], dimensions[l]))\n",
        "            params[\"b\" + str(l + 1)] = np.zeros((dimensions[l + 1], 1))\n",
        "\n",
        "    return params"
      ],
      "metadata": {
        "id": "Vf8lBLNSjYsT"
      },
      "execution_count": null,
      "outputs": []
    },
    {
      "cell_type": "markdown",
      "source": [
        "#### xavier initialization"
      ],
      "metadata": {
        "id": "gI3DUGZol31t"
      }
    },
    {
      "cell_type": "code",
      "source": [
        "accuracy_loss_random_2_xavier, report_k_vals = model(X_train, y_train, X_val, y_val, architecture=architecture_2, alpha=alpha, k=k, report_k=report_k, random=True, print_cost=False)"
      ],
      "metadata": {
        "colab": {
          "base_uri": "https://localhost:8080/"
        },
        "id": "6iFVixMJY0VZ",
        "outputId": "03f6f398-0cc2-4be4-9b14-29b5f11b8c31"
      },
      "execution_count": null,
      "outputs": [
        {
          "output_type": "stream",
          "name": "stderr",
          "text": [
            "100%|██████████| 1000/1000 [00:00<00:00, 3132.55it/s]\n"
          ]
        }
      ]
    },
    {
      "cell_type": "code",
      "source": [
        "accuracy_loss_random_3_xavier, report_k_vals = model(X_train, y_train, X_val, y_val, architecture=architecture_3, alpha=alpha, k=k, report_k=report_k, random=True, print_cost=False)"
      ],
      "metadata": {
        "colab": {
          "base_uri": "https://localhost:8080/"
        },
        "id": "BelFaVhoY0JV",
        "outputId": "08bd1076-7419-4cda-f556-485d94c5994c"
      },
      "execution_count": null,
      "outputs": [
        {
          "output_type": "stream",
          "name": "stderr",
          "text": [
            "100%|██████████| 1000/1000 [00:01<00:00, 936.12it/s]\n"
          ]
        }
      ]
    },
    {
      "cell_type": "code",
      "source": [
        "accuracy_loss_random_5_xavier, report_k_vals_xavier5 = model(X_train, y_train, X_val, y_val, architecture=architecture_5, alpha=alpha, k=k, report_k=report_k, random=True, print_cost=False)"
      ],
      "metadata": {
        "colab": {
          "base_uri": "https://localhost:8080/"
        },
        "id": "A6d5ovp8lxOt",
        "outputId": "ce5b84bc-6001-4b32-e711-14a30dd30e5f"
      },
      "execution_count": null,
      "outputs": [
        {
          "output_type": "stream",
          "name": "stderr",
          "text": [
            "100%|██████████| 1000/1000 [00:02<00:00, 463.71it/s]\n"
          ]
        }
      ]
    },
    {
      "cell_type": "markdown",
      "source": [
        "####Random 0.01 vs xavier initialization of 5-layer NN"
      ],
      "metadata": {
        "id": "VQrnyZEfl_Id"
      }
    },
    {
      "cell_type": "code",
      "source": [
        "print(\"\\nRandom 0.01 vs xavier initialization of 2-layer NN:\\n\")\n",
        "\n",
        "print(\"\\nRandom initialization:\\n\")\n",
        "print(print_table([dic_to_matrix(accuracy_loss_random_2), dic_to_matrix(accuracy_loss_random_2_xavier)],\n",
        "                  rows=['0.01 Constant', 'Xavier Initializatio']))\n",
        "\n",
        "print(\"\\n\\n Loss was reduced by \", round(-((accuracy_loss_random_2_xavier[\"loss_val\"][-1] / accuracy_loss_random_2[\"loss_val\"][-1]) - 1) * 100, 2), \"%\")\n",
        "print(\"\\n Accuracy was improved by \", round(((accuracy_loss_random_2_xavier[\"accuracy_val\"][-1] / accuracy_loss_random_2[\"accuracy_val\"][-1]) - 1) * 100, 2), \"%\\n\")"
      ],
      "metadata": {
        "colab": {
          "base_uri": "https://localhost:8080/"
        },
        "id": "daFOQ_OiYsFz",
        "outputId": "307d63b2-350e-4dcd-9519-a32e13621eaf"
      },
      "execution_count": null,
      "outputs": [
        {
          "output_type": "stream",
          "name": "stdout",
          "text": [
            "\n",
            "Random 0.01 vs xavier initialization of 2-layer NN:\n",
            "\n",
            "\n",
            "Random initialization:\n",
            "\n",
            "╒══════════════════════╤══════════════╤══════════════════╤════════════╤════════════════╕\n",
            "│ Number of Layers     │   Train Loss │   Train Accuracy │   Val Loss │   Val Accuracy │\n",
            "╞══════════════════════╪══════════════╪══════════════════╪════════════╪════════════════╡\n",
            "│ 0.01 Constant        │     0.334181 │         0.838542 │   0.437243 │       0.8125   │\n",
            "├──────────────────────┼──────────────┼──────────────────┼────────────┼────────────────┤\n",
            "│ Xavier Initializatio │     0.33677  │         0.84375  │   0.438222 │       0.791667 │\n",
            "╘══════════════════════╧══════════════╧══════════════════╧════════════╧════════════════╛\n",
            "\n",
            "\n",
            " Loss was reduced by  -0.22 %\n",
            "\n",
            " Accuracy was improved by  -2.56 %\n",
            "\n"
          ]
        }
      ]
    },
    {
      "cell_type": "code",
      "source": [
        "print(\"\\nRandom 0.01 vs xavier initialization of 3-layer NN:\\n\")\n",
        "\n",
        "print(\"\\nRandom initialization:\\n\")\n",
        "print(print_table([dic_to_matrix(accuracy_loss_random_3), dic_to_matrix(accuracy_loss_random_3_xavier)],\n",
        "                  rows=['0.01 Constant', 'Xavier Initializatio']))\n",
        "\n",
        "print(\"\\n\\n Loss was reduced by \", round(-((accuracy_loss_random_3_xavier[\"loss_val\"][-1] / accuracy_loss_random_3[\"loss_val\"][-1]) - 1) * 100, 2), \"%\")\n",
        "print(\"\\n Accuracy was improved by \", round(((accuracy_loss_random_3_xavier[\"accuracy_val\"][-1] / accuracy_loss_random_3[\"accuracy_val\"][-1]) - 1) * 100, 2), \"%\\n\")"
      ],
      "metadata": {
        "colab": {
          "base_uri": "https://localhost:8080/"
        },
        "id": "slbEhSfgYr6U",
        "outputId": "46105110-d177-404e-aaef-5f214bca1f07"
      },
      "execution_count": null,
      "outputs": [
        {
          "output_type": "stream",
          "name": "stdout",
          "text": [
            "\n",
            "Random 0.01 vs xavier initialization of 3-layer NN:\n",
            "\n",
            "\n",
            "Random initialization:\n",
            "\n",
            "╒══════════════════════╤══════════════╤══════════════════╤════════════╤════════════════╕\n",
            "│ Number of Layers     │   Train Loss │   Train Accuracy │   Val Loss │   Val Accuracy │\n",
            "╞══════════════════════╪══════════════╪══════════════════╪════════════╪════════════════╡\n",
            "│ 0.01 Constant        │     0.296075 │         0.864583 │   0.451701 │       0.802083 │\n",
            "├──────────────────────┼──────────────┼──────────────────┼────────────┼────────────────┤\n",
            "│ Xavier Initializatio │     0.259952 │         0.877604 │   0.422054 │       0.833333 │\n",
            "╘══════════════════════╧══════════════╧══════════════════╧════════════╧════════════════╛\n",
            "\n",
            "\n",
            " Loss was reduced by  6.56 %\n",
            "\n",
            " Accuracy was improved by  3.9 %\n",
            "\n"
          ]
        }
      ]
    },
    {
      "cell_type": "code",
      "source": [
        "print(\"\\nRandom 0.01 vs xavier initialization of 5-layer NN:\\n\")\n",
        "\n",
        "\n",
        "print(print_table([dic_to_matrix(accuracy_loss_random_5), dic_to_matrix(accuracy_loss_random_5_xavier)],\n",
        "                  rows=['0.01 Constant', 'Xavier Initializatio']))\n",
        "\n",
        "print(\"\\n\\n Loss was reduced by \", round(-((accuracy_loss_random_5_xavier[\"loss_val\"][-1] / accuracy_loss_random_5[\"loss_val\"][-1]) - 1) * 100, 2), \"%\")\n",
        "print(\"\\n Accuracy was improved by \", round(((accuracy_loss_random_5_xavier[\"accuracy_val\"][-1] / accuracy_loss_random_5[\"accuracy_val\"][-1]) - 1) * 100, 2), \"%\\n\")"
      ],
      "metadata": {
        "colab": {
          "base_uri": "https://localhost:8080/"
        },
        "id": "z84tolvOkX1W",
        "outputId": "44ae6c6b-7054-4d8b-e7a7-08dd89cf6fdb"
      },
      "execution_count": null,
      "outputs": [
        {
          "output_type": "stream",
          "name": "stdout",
          "text": [
            "\n",
            "Random 0.01 vs xavier initialization of 5-layer NN:\n",
            "\n",
            "╒══════════════════════╤══════════════╤══════════════════╤════════════╤════════════════╕\n",
            "│ Number of Layers     │   Train Loss │   Train Accuracy │   Val Loss │   Val Accuracy │\n",
            "╞══════════════════════╪══════════════╪══════════════════╪════════════╪════════════════╡\n",
            "│ 0.01 Constant        │     0.581489 │         0.731771 │   0.720011 │        0.59375 │\n",
            "├──────────────────────┼──────────────┼──────────────────┼────────────┼────────────────┤\n",
            "│ Xavier Initializatio │     0.149958 │         0.929688 │   0.37511  │        0.875   │\n",
            "╘══════════════════════╧══════════════╧══════════════════╧════════════╧════════════════╛\n",
            "\n",
            "\n",
            " Loss was reduced by  47.9 %\n",
            "\n",
            " Accuracy was improved by  47.37 %\n",
            "\n"
          ]
        }
      ]
    },
    {
      "cell_type": "code",
      "source": [
        "draw_plot(\"5-Layer Model xavier initialization\", report_k_vals_xavier5)"
      ],
      "metadata": {
        "colab": {
          "base_uri": "https://localhost:8080/",
          "height": 484
        },
        "id": "m7bp2Ek80KDE",
        "outputId": "9a7aa32b-50f0-4d7c-d4bf-2f346da8fe5a"
      },
      "execution_count": null,
      "outputs": [
        {
          "output_type": "stream",
          "name": "stdout",
          "text": [
            "\n",
            "\n"
          ]
        },
        {
          "output_type": "display_data",
          "data": {
            "text/plain": [
              "<Figure size 2160x432 with 2 Axes>"
            ],
            "image/png": "[encoded data removed]"
          },
          "metadata": {
            "needs_background": "light"
          }
        }
      ]
    }
  ]
}